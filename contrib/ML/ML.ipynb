{
 "cells": [
  {
   "cell_type": "code",
   "execution_count": 173,
   "metadata": {
    "ExecuteTime": {
     "end_time": "2021-01-11T00:49:36.495875Z",
     "start_time": "2021-01-11T00:49:36.488474Z"
    },
    "code_folding": []
   },
   "outputs": [],
   "source": [
    "# \n",
    "import pandas as pd\n",
    "import numpy as np\n",
    "import warnings\n",
    "import pickle\n",
    "import matplotlib.pyplot as plt\n",
    "warnings.simplefilter(\"ignore\")\n",
    "\n",
    "\n",
    "from sklearn import svm\n",
    "from sklearn.datasets import make_classification\n",
    "from sklearn.linear_model import LogisticRegression\n",
    "from sklearn.ensemble import GradientBoostingClassifier\n",
    "from sklearn.neural_network import MLPClassifier\n",
    "\n",
    "from sklearn.model_selection import train_test_split\n",
    "\n",
    "from sklearn.pipeline import make_pipeline\n",
    "from sklearn.preprocessing import StandardScaler\n",
    "from sklearn.preprocessing import MinMaxScaler\n",
    "\n",
    "from sklearn.metrics import classification_report, confusion_matrix , auc,roc_curve\n",
    "from sklearn.model_selection import GridSearchCV \n",
    "from sklearn.inspection import permutation_importance"
   ]
  },
  {
   "cell_type": "code",
   "execution_count": 2,
   "metadata": {
    "ExecuteTime": {
     "end_time": "2021-01-10T22:28:33.132168Z",
     "start_time": "2021-01-10T22:28:33.129496Z"
    }
   },
   "outputs": [],
   "source": [
    "def ema(values):\n",
    "    ewm=0\n",
    "    for i in values:\n",
    "        ewm=(ewm+i)/2\n",
    "    return ewm"
   ]
  },
  {
   "cell_type": "code",
   "execution_count": 206,
   "metadata": {
    "ExecuteTime": {
     "end_time": "2021-01-11T01:02:24.515621Z",
     "start_time": "2021-01-11T01:02:20.473306Z"
    },
    "code_folding": [],
    "scrolled": false
   },
   "outputs": [
    {
     "name": "stdout",
     "output_type": "stream",
     "text": [
      "(1440, 14)\n",
      "0    789\n",
      "1    651\n",
      "Name: yInt, dtype: int64\n",
      "y_0        -0.793001\n",
      "RC         -0.505182\n",
      "dual_0     -0.464039\n",
      "Dual       -0.401842\n",
      "dual_ema   -0.354114\n",
      "ObjCoeff   -0.272829\n",
      "rc_std      0.077641\n",
      "ylp_std     0.244245\n",
      "dual_std    0.291710\n",
      "rc_0        0.635045\n",
      "y_1         0.671350\n",
      "ylp_ema     0.808613\n",
      "yLP         0.814403\n",
      "yInt        1.000000\n",
      "Name: yInt, dtype: float64\n",
      "216.08881344975134\n"
     ]
    },
    {
     "data": {
      "text/html": [
       "<div>\n",
       "<style scoped>\n",
       "    .dataframe tbody tr th:only-of-type {\n",
       "        vertical-align: middle;\n",
       "    }\n",
       "\n",
       "    .dataframe tbody tr th {\n",
       "        vertical-align: top;\n",
       "    }\n",
       "\n",
       "    .dataframe thead th {\n",
       "        text-align: right;\n",
       "    }\n",
       "</style>\n",
       "<table border=\"1\" class=\"dataframe\">\n",
       "  <thead>\n",
       "    <tr style=\"text-align: right;\">\n",
       "      <th></th>\n",
       "      <th>ObjCoeff</th>\n",
       "      <th>yLP</th>\n",
       "      <th>Dual</th>\n",
       "      <th>RC</th>\n",
       "      <th>yInt</th>\n",
       "      <th>ylp_std</th>\n",
       "      <th>ylp_ema</th>\n",
       "      <th>y_0</th>\n",
       "      <th>y_1</th>\n",
       "      <th>dual_std</th>\n",
       "      <th>dual_ema</th>\n",
       "      <th>dual_0</th>\n",
       "      <th>rc_std</th>\n",
       "      <th>rc_0</th>\n",
       "    </tr>\n",
       "  </thead>\n",
       "  <tbody>\n",
       "    <tr>\n",
       "      <th>0</th>\n",
       "      <td>1.000000</td>\n",
       "      <td>0.002018</td>\n",
       "      <td>0.0</td>\n",
       "      <td>478.406331</td>\n",
       "      <td>0</td>\n",
       "      <td>0.004196</td>\n",
       "      <td>0.000002</td>\n",
       "      <td>1.0</td>\n",
       "      <td>0.0</td>\n",
       "      <td>0.0</td>\n",
       "      <td>0.0</td>\n",
       "      <td>1.0</td>\n",
       "      <td>957.2373</td>\n",
       "      <td>0.0</td>\n",
       "    </tr>\n",
       "    <tr>\n",
       "      <th>1</th>\n",
       "      <td>0.329296</td>\n",
       "      <td>0.002018</td>\n",
       "      <td>0.0</td>\n",
       "      <td>0.000000</td>\n",
       "      <td>0</td>\n",
       "      <td>0.004196</td>\n",
       "      <td>0.000002</td>\n",
       "      <td>1.0</td>\n",
       "      <td>0.0</td>\n",
       "      <td>0.0</td>\n",
       "      <td>0.0</td>\n",
       "      <td>1.0</td>\n",
       "      <td>0.0000</td>\n",
       "      <td>0.0</td>\n",
       "    </tr>\n",
       "  </tbody>\n",
       "</table>\n",
       "</div>"
      ],
      "text/plain": [
       "   ObjCoeff       yLP  Dual          RC  yInt   ylp_std   ylp_ema  y_0  y_1  \\\n",
       "0  1.000000  0.002018   0.0  478.406331     0  0.004196  0.000002  1.0  0.0   \n",
       "1  0.329296  0.002018   0.0    0.000000     0  0.004196  0.000002  1.0  0.0   \n",
       "\n",
       "   dual_std  dual_ema  dual_0    rc_std  rc_0  \n",
       "0       0.0       0.0     1.0  957.2373   0.0  \n",
       "1       0.0       0.0     1.0    0.0000   0.0  "
      ]
     },
     "execution_count": 206,
     "metadata": {},
     "output_type": "execute_result"
    }
   ],
   "source": [
    "# data\n",
    "# if changed order, update the predict.py\n",
    "col_list=[\"LB\",\"UB\",\"ObjCoeff\",\"yLP\",\"Dual\",\"RC\",\"yInt\"]#\"LB\", \"ObjCoeff\",\"Dual\",\"RC\",\"y_lp_sum\",\"ylp\",\"yint\"]#\"RC\", \"ylp\", \"yint\"]#,\"Dual\",\"y_lp_sum\",\"LB\", \"Routing_Cost\",\"Capacity\",\"Fixed_Cost\"]\n",
    "df = pd.read_csv(\"data/{}.csv\".format(\"noRootLifter\"))[col_list]#allSolsWithRC probSpecificScaling\n",
    "\n",
    "# feature eng\n",
    "t=5\n",
    "df[\"ylp_std\"]=0\n",
    "df[\"ylp_ema\"]=0\n",
    "df[\"y_0\"]=0\n",
    "df[\"y_1\"]=0\n",
    "\n",
    "df[\"dual_std\"]=0\n",
    "df[\"dual_ema\"]=0\n",
    "df[\"dual_0\"]=0\n",
    "\n",
    "df[\"rc_std\"]=0\n",
    "\n",
    "# df[\"gap\"]=df.UB-df.LB \n",
    "df[\"rc_0\"]=0\n",
    " \n",
    "for idx,row in df.iterrows(): \n",
    "    yRow=np.float_( row.yLP.split(\"_\")[t:-1])\n",
    "    dRow=np.float_( row.Dual.split(\"_\")[t:-1])\n",
    "    rcRow=np.float_( row.RC.split(\"_\")[t:-1])\n",
    "    df.loc[idx,\"yLP\"] = yRow.mean()#[-1]\n",
    "    df.loc[idx,\"Dual\"] = dRow.mean()\n",
    "    df.loc[idx,\"RC\"] = rcRow.mean() \n",
    "    \n",
    "    df.loc[idx,\"ylp_ema\"] = ema(yRow)\n",
    "    df.loc[idx,\"dual_ema\"] = ema(dRow)\n",
    "    \n",
    "#     df.loc[idx,\"ylp_med\"] = np.median(yRow)\n",
    "#     df.loc[idx,\"dual_med\"] = np.median(dRow)\n",
    "#     df.loc[idx,\"rc_med\"] = np.median(rcRow)\n",
    "    df.loc[idx,\"ylp_std\"] = yRow.std()\n",
    "    df.loc[idx,\"dual_std\"] = dRow.std()\n",
    "    df.loc[idx,\"rc_std\"] = rcRow.std()\n",
    "    \n",
    "    #number of time the daul has been zero\n",
    "    df.loc[idx,\"dual_0\"]=len([i for i in dRow if abs(i)<0.1])/len(dRow)\n",
    "    df.loc[idx,\"rc_0\"]=len([i for i in rcRow if (i)<0])/len(rcRow)\n",
    "    df.loc[idx,\"y_0\"]=len([i for i in yRow if abs(i)<=0.1])/len(yRow)\n",
    "    df.loc[idx,\"y_1\"]=len([i for i in yRow if abs(i)>=0.9])/len(yRow)\n",
    "\n",
    "# df[\"x\"]=0\n",
    "# df[\"rc_sig\"]=df.UB-df.LB+df.RC\n",
    "df.loc[\"gap\"]=(df.UB-df.LB )/(1+df.RC )\n",
    "df[col_list]=df[col_list].astype(\"float\")\n",
    "df[\"yInt\"]=df[\"yInt\"].fillna(0).astype(\"int\")\n",
    "\n",
    "df.dropna(inplace=True)\n",
    "df.drop([\"LB\",\"UB\"],axis=\"columns\",inplace=True)\n",
    "print(df.shape)\n",
    "print(df.yInt.value_counts()) \n",
    "print(df.corr().yInt.sort_values())\n",
    "print(abs(df.yLP-df.yInt).sum())\n",
    "df.head(2)\n",
    "# df.describe()"
   ]
  },
  {
   "cell_type": "code",
   "execution_count": 207,
   "metadata": {
    "ExecuteTime": {
     "end_time": "2021-01-11T01:02:29.462749Z",
     "start_time": "2021-01-11T01:02:29.457830Z"
    }
   },
   "outputs": [],
   "source": [
    "def QuntileScore(df):\n",
    "    df[\"pred\"]=-1\n",
    "    df.loc[df.score>=df.score.quantile(0.75),\"pred\"]=1\n",
    "    df.loc[df.score<=df.score.quantile(0.25),\"pred\"]=0\n",
    "    print(len(df[df.pred!=-1])/len(df),1-abs(df[df.pred!=-1].yInt-df[df.pred!=-1].pred).sum()/len(1e-10+df[df.pred!=-1]))"
   ]
  },
  {
   "cell_type": "code",
   "execution_count": 236,
   "metadata": {
    "ExecuteTime": {
     "end_time": "2021-01-11T01:10:04.985401Z",
     "start_time": "2021-01-11T01:10:04.979141Z"
    },
    "code_folding": [],
    "scrolled": true
   },
   "outputs": [],
   "source": [
    "# split and scale\n",
    "# df_=pd.concat([df,df[df.yInt==1].head(int(0.28*len(df)))])\n",
    "\n",
    "def Split():\n",
    "    train, test = train_test_split(pd.concat([df,df[df.yInt==1].head(\n",
    "        int(len(df[df.yInt==0]) -len(df[df.yInt==1]))\n",
    "    )]), test_size=0.25,random_state=42)\n",
    "    # print(100*train.yInt.value_counts(normalize=True))\n",
    "    print(100*test.yInt.value_counts(normalize=True))\n",
    "    train, val = train_test_split(train, test_size=0.005,random_state=42)\n",
    "    print(100*train.yInt.value_counts(normalize=True))\n",
    "    print(100*val.yInt.value_counts(normalize=True))\n",
    "\n",
    "    # ech problem should be scaled separately\n",
    "    for col in df.columns:\n",
    "    #     if  col==\"yint\" or col==\"ylp\" or col==\"y_lp_sum\" or col==\"y_0\" or col==\"y_1\" or col==\"ylp_ema\" or col==\"ylp_med\":\n",
    "    #         continue\n",
    "        if col==\"gap\" or col==\"RC\"or col==\"rc_med\" or col==\"rc_std\" or col==\"rc_ema\" or col==\"Dual\" or col==\"dual_med\" or col==\"dual_std\" or col==\"dual_ema\" or col==\"d_c\":\n",
    "            scaler=StandardScaler().fit(train[[col]])\n",
    "            train[col]=scaler.transform(train[[col]])\n",
    "            test[col]=scaler.transform(test[[col]])\n",
    "            pickle.dump(scaler, open(\"scaler_{}.sav\".format(col),'wb'))\n",
    "    return train,test,val"
   ]
  },
  {
   "cell_type": "code",
   "execution_count": 237,
   "metadata": {
    "ExecuteTime": {
     "end_time": "2021-01-11T01:10:06.359292Z",
     "start_time": "2021-01-11T01:10:05.805390Z"
    },
    "cell_style": "center",
    "code_folding": [],
    "scrolled": false
   },
   "outputs": [
    {
     "name": "stdout",
     "output_type": "stream",
     "text": [
      "1    60.803059\n",
      "0    39.196941\n",
      "Name: yInt, dtype: float64\n",
      "1    62.884615\n",
      "0    37.115385\n",
      "Name: yInt, dtype: float64\n",
      "0    62.5\n",
      "1    37.5\n",
      "Name: yInt, dtype: float64\n",
      "Score 99.16666666666667 95.41108986615679\n",
      "AUC 0.9995088019521161 0.9864396379812854 => 0.9790640897595392\n",
      "0.5 1.0\n",
      "0.5009560229445507 0.9961832061068703\n"
     ]
    }
   ],
   "source": [
    "# boost\n",
    "train,test,val=Split()\n",
    "trainScores=[]\n",
    "testScores=[] \n",
    "clf = GradientBoostingClassifier(random_state=42\n",
    "#                                 ,learning_rate=0.01\n",
    "#                                  ,n_estimators=250\n",
    "                                 ,max_depth=4\n",
    "#                                  ,min_samples_split=0.9\n",
    "#                                  ,subsample=0.7\n",
    "#                                  ,learning_rate= 0.025, max_depth= 30, n_estimators= 1000\n",
    "                                ).fit(train.drop(\"yInt\",axis=\"columns\"), train.yInt)\n",
    "trainScore=100*clf.score(train.drop(\"yInt\",axis=\"columns\"), train.yInt)\n",
    "testScore=100*clf.score(test.drop(\"yInt\",axis=\"columns\"), test.yInt)\n",
    "print(\"Score\",trainScore,testScore)\n",
    "\n",
    "\n",
    "\n",
    "fpr_gb, tpr_gb, _ = roc_curve(test.yInt, clf.decision_function(test.drop(\"yInt\",axis=\"columns\")))\n",
    "fpr_gb_, tpr_gb_, _ = roc_curve(train.yInt, clf.decision_function(train.drop(\"yInt\",axis=\"columns\")))\n",
    "fpr_gb__, tpr_gb__, _ = roc_curve(df.yInt, clf.decision_function(df.drop(\"yInt\",axis=\"columns\")))\n",
    "print(\"AUC\",auc(fpr_gb_, tpr_gb_),auc(fpr_gb, tpr_gb), \"=>\",auc(fpr_gb__, tpr_gb__))\n",
    "\n",
    "train[\"score\"]=clf.predict_proba(train.drop(\"yInt\",axis=\"columns\"))[:,1]\n",
    "QuntileScore(train)\n",
    "test[\"score\"]=clf.predict_proba(test.drop(\"yInt\",axis=\"columns\"))[:,1]\n",
    "QuntileScore(test) \n",
    "\n",
    "# pickle.dump(clf, open(\"gboost.sav\", 'wb'))\n",
    "# r = permutation_importance(clf, df.drop(\"yInt\",axis=\"columns\"), df.yInt\n",
    "#                            ,n_repeats=100\n",
    "# #                            , n_jobs=-1\n",
    "#                            ,random_state=42\n",
    "#                           )\n",
    "# for i in r.importances_mean.argsort()[::-1]:\n",
    "#     print(f\"{df.drop('yInt',axis='columns').columns[i]:<8}\" f\" {r.importances_mean[i]:.3f}\" \n",
    "#           f\" +/- {r.importances_std[i]:.3f}\" f\" {r.importances_mean[i] - 2 * r.importances_std[i] > 0}\"\n",
    "#          )"
   ]
  },
  {
   "cell_type": "code",
   "execution_count": 149,
   "metadata": {
    "ExecuteTime": {
     "end_time": "2021-01-11T00:34:13.870885Z",
     "start_time": "2021-01-11T00:34:04.577902Z"
    },
    "code_folding": [],
    "scrolled": true
   },
   "outputs": [
    {
     "name": "stdout",
     "output_type": "stream",
     "text": [
      "93.87085005472456\n",
      "93.79760609357997\n",
      "RC       0.053 +/- 0.007 True\n",
      "ylp_std  0.051 +/- 0.008 True\n",
      "yLP      0.019 +/- 0.006 True\n",
      "rc_std   0.009 +/- 0.005 False\n",
      "dual_0   0.005 +/- 0.003 False\n",
      "ylp_ema  0.004 +/- 0.004 False\n",
      "y_0      0.004 +/- 0.003 False\n",
      "y_1      0.003 +/- 0.003 False\n",
      "ObjCoeff 0.002 +/- 0.002 False\n",
      "dual_std 0.002 +/- 0.003 False\n",
      "dual_ema 0.001 +/- 0.002 False\n",
      "Dual     -0.001 +/- 0.002 False\n",
      "yInt     -0.002 +/- 0.002 False\n"
     ]
    },
    {
     "data": {
      "text/plain": [
       "MLPClassifier(max_iter=100000, random_state=1, tol=1e-27)"
      ]
     },
     "execution_count": 149,
     "metadata": {},
     "output_type": "execute_result"
    }
   ],
   "source": [
    "# mlp\n",
    "mlp = MLPClassifier(\n",
    "#     hidden_layer_sizes=(5000, 500)\n",
    "    random_state=1,max_iter=100000\n",
    "    , tol=1e-27\n",
    ").fit(    train.drop(\"yInt\",axis=\"columns\"), train.yInt)\n",
    "# solver='lbfgs', alpha=1e-5,  hidden_layer_sizes=(50, 20), random_state=1,max_iter=1000\n",
    "print(100*mlp.score(train.drop(\"yInt\",axis=\"columns\"), train.yInt))\n",
    "print(100*mlp.score(test.drop(\"yInt\",axis=\"columns\"), test.yInt))\n",
    "pickle.dump(mlp, open(\"mlp.sav\", 'wb'))\n",
    "\n",
    "\n",
    "r = permutation_importance(mlp, test.drop(\"yInt\",axis=\"columns\"), test.yInt, n_repeats=100, random_state=0)\n",
    "for i in r.importances_mean.argsort()[::-1]:\n",
    "    print( f\"{test.columns[i]:<8}\" f\" {r.importances_mean[i]:.3f}\" f\" +/- {r.importances_std[i]:.3f}\" f\" {r.importances_mean[i] - 2 * r.importances_std[i] > 0}\")\n",
    "\n",
    "mlp\n",
    "# 0.9564102564102565\n",
    "# 0.9387755102040817\n",
    "# ylp      0.349 +/- 0.046 True\n",
    "# RC       0.055 +/- 0.022 True\n"
   ]
  },
  {
   "cell_type": "code",
   "execution_count": 150,
   "metadata": {
    "ExecuteTime": {
     "end_time": "2021-01-11T00:34:16.378635Z",
     "start_time": "2021-01-11T00:34:13.874522Z"
    },
    "cell_style": "center",
    "code_folding": [
     0
    ],
    "scrolled": true
   },
   "outputs": [
    {
     "name": "stdout",
     "output_type": "stream",
     "text": [
      "0.9354250273622765\n",
      "0.9445048966267682\n",
      "ylp_std  0.042 +/- 0.006 True\n",
      "RC       0.031 +/- 0.006 True\n",
      "ylp_ema  0.016 +/- 0.004 True\n",
      "yLP      0.013 +/- 0.005 True\n",
      "y_0      0.006 +/- 0.003 True\n",
      "dual_ema 0.003 +/- 0.002 False\n",
      "ObjCoeff 0.002 +/- 0.002 False\n",
      "y_1      0.002 +/- 0.003 False\n",
      "dual_std 0.002 +/- 0.001 False\n",
      "rc_std   0.002 +/- 0.001 False\n",
      "Dual     0.001 +/- 0.001 False\n",
      "dual_0   0.000 +/- 0.000 False\n",
      "yInt     0.000 +/- 0.000 False\n",
      "Feature: ObjCoeff, Score: -0.8756462189364983\n",
      "Feature: yLP, Score: 1.8175542942172593\n",
      "Feature: Dual, Score: 0.07044974955302002\n",
      "Feature: RC, Score: -1.7981189873471957\n",
      "Feature: yInt, Score: 0.13341485770808634\n",
      "Feature: ylp_std, Score: 2.4920701474674116\n",
      "Feature: ylp_ema, Score: -1.9700185333096643\n",
      "Feature: y_0, Score: 1.0727496438154067\n",
      "Feature: y_1, Score: 0.5189935188374641\n",
      "Feature: dual_std, Score: 0.1647333254734069\n",
      "Feature: dual_ema, Score: -0.37249080665560647\n",
      "Feature: dual_0, Score: 0.011240154914805317\n",
      "Feature: rc_std, Score: 0.5366643571640523\n"
     ]
    }
   ],
   "source": [
    "# logistic\n",
    "logstic = LogisticRegression(max_iter=10000, tol=1e-10)#make_pipeline(StandardScaler(), LogisticRegression())\n",
    "logstic.fit(train.drop(\"yInt\",axis=\"columns\"), train.yInt) \n",
    "\n",
    "print(logstic.score(train.drop(\"yInt\",axis=\"columns\"), train.yInt))\n",
    "print(logstic.score(test.drop(\"yInt\",axis=\"columns\"), test.yInt))\n",
    "pickle.dump(logstic, open(\"logistic.sav\", 'wb'))\n",
    "\n",
    "r = permutation_importance(logstic, test.drop(\"yInt\",axis=\"columns\"), test.yInt, n_repeats=100, random_state=0)\n",
    "for i in r.importances_mean.argsort()[::-1]:\n",
    "    print( f\"{test.columns[i]:<8}\" f\" {r.importances_mean[i]:.3f}\" f\" +/- {r.importances_std[i]:.3f}\" f\" {r.importances_mean[i] - 2 * r.importances_std[i] > 0}\")\n",
    "importance = logstic.coef_[0]\n",
    "for i,v in enumerate(importance):\n",
    "    print('Feature: {}, Score: {}'.format (test.columns[i],v))\n",
    "    # 0.9538461538461539\n",
    "# 0.9387755102040817\n",
    "\n",
    "# 0.9140625\n",
    "# 0.9166666666666666\n",
    "\n",
    "# 0.9157986111111112\n",
    "# 0.9131944444444444\n"
   ]
  },
  {
   "cell_type": "code",
   "execution_count": 151,
   "metadata": {
    "ExecuteTime": {
     "end_time": "2021-01-11T00:34:31.410220Z",
     "start_time": "2021-01-11T00:34:16.382034Z"
    },
    "cell_style": "center",
    "code_folding": []
   },
   "outputs": [
    {
     "name": "stdout",
     "output_type": "stream",
     "text": [
      "0.9332360452389639\n",
      "0.9423286180631121\n"
     ]
    },
    {
     "ename": "KeyboardInterrupt",
     "evalue": "",
     "output_type": "error",
     "traceback": [
      "\u001b[0;31m---------------------------------------------------------------------------\u001b[0m",
      "\u001b[0;31mKeyboardInterrupt\u001b[0m                         Traceback (most recent call last)",
      "\u001b[0;32m<ipython-input-151-e29a00bde14d>\u001b[0m in \u001b[0;36m<module>\u001b[0;34m\u001b[0m\n\u001b[1;32m      7\u001b[0m \u001b[0mpickle\u001b[0m\u001b[0;34m.\u001b[0m\u001b[0mdump\u001b[0m\u001b[0;34m(\u001b[0m\u001b[0msvm_\u001b[0m\u001b[0;34m,\u001b[0m \u001b[0mopen\u001b[0m\u001b[0;34m(\u001b[0m\u001b[0;34m\"svm.sav\"\u001b[0m\u001b[0;34m,\u001b[0m \u001b[0;34m'wb'\u001b[0m\u001b[0;34m)\u001b[0m\u001b[0;34m)\u001b[0m\u001b[0;34m\u001b[0m\u001b[0;34m\u001b[0m\u001b[0m\n\u001b[1;32m      8\u001b[0m \u001b[0;34m\u001b[0m\u001b[0m\n\u001b[0;32m----> 9\u001b[0;31m \u001b[0mr\u001b[0m \u001b[0;34m=\u001b[0m \u001b[0mpermutation_importance\u001b[0m\u001b[0;34m(\u001b[0m\u001b[0msvm_\u001b[0m\u001b[0;34m,\u001b[0m \u001b[0mtest\u001b[0m\u001b[0;34m.\u001b[0m\u001b[0mdrop\u001b[0m\u001b[0;34m(\u001b[0m\u001b[0;34m\"yInt\"\u001b[0m\u001b[0;34m,\u001b[0m\u001b[0maxis\u001b[0m\u001b[0;34m=\u001b[0m\u001b[0;34m\"columns\"\u001b[0m\u001b[0;34m)\u001b[0m\u001b[0;34m,\u001b[0m \u001b[0mtest\u001b[0m\u001b[0;34m.\u001b[0m\u001b[0myInt\u001b[0m\u001b[0;34m,\u001b[0m \u001b[0mn_repeats\u001b[0m\u001b[0;34m=\u001b[0m\u001b[0;36m100\u001b[0m\u001b[0;34m,\u001b[0m \u001b[0mrandom_state\u001b[0m\u001b[0;34m=\u001b[0m\u001b[0;36m0\u001b[0m\u001b[0;34m)\u001b[0m\u001b[0;34m\u001b[0m\u001b[0;34m\u001b[0m\u001b[0m\n\u001b[0m\u001b[1;32m     10\u001b[0m \u001b[0;32mfor\u001b[0m \u001b[0mi\u001b[0m \u001b[0;32min\u001b[0m \u001b[0mr\u001b[0m\u001b[0;34m.\u001b[0m\u001b[0mimportances_mean\u001b[0m\u001b[0;34m.\u001b[0m\u001b[0margsort\u001b[0m\u001b[0;34m(\u001b[0m\u001b[0;34m)\u001b[0m\u001b[0;34m[\u001b[0m\u001b[0;34m:\u001b[0m\u001b[0;34m:\u001b[0m\u001b[0;34m-\u001b[0m\u001b[0;36m1\u001b[0m\u001b[0;34m]\u001b[0m\u001b[0;34m:\u001b[0m\u001b[0;34m\u001b[0m\u001b[0;34m\u001b[0m\u001b[0m\n\u001b[1;32m     11\u001b[0m     \u001b[0mprint\u001b[0m\u001b[0;34m(\u001b[0m \u001b[0;34mf\"{test.columns[i]:<8}\"\u001b[0m \u001b[0;34mf\" {r.importances_mean[i]:.3f}\"\u001b[0m \u001b[0;34mf\" +/- {r.importances_std[i]:.3f}\"\u001b[0m \u001b[0;34mf\" {r.importances_mean[i] - 2 * r.importances_std[i] > 0}\"\u001b[0m\u001b[0;34m)\u001b[0m\u001b[0;34m\u001b[0m\u001b[0;34m\u001b[0m\u001b[0m\n",
      "\u001b[0;32m/Library/Python/3.8/site-packages/sklearn/utils/validation.py\u001b[0m in \u001b[0;36minner_f\u001b[0;34m(*args, **kwargs)\u001b[0m\n\u001b[1;32m     70\u001b[0m                           FutureWarning)\n\u001b[1;32m     71\u001b[0m         \u001b[0mkwargs\u001b[0m\u001b[0;34m.\u001b[0m\u001b[0mupdate\u001b[0m\u001b[0;34m(\u001b[0m\u001b[0;34m{\u001b[0m\u001b[0mk\u001b[0m\u001b[0;34m:\u001b[0m \u001b[0marg\u001b[0m \u001b[0;32mfor\u001b[0m \u001b[0mk\u001b[0m\u001b[0;34m,\u001b[0m \u001b[0marg\u001b[0m \u001b[0;32min\u001b[0m \u001b[0mzip\u001b[0m\u001b[0;34m(\u001b[0m\u001b[0msig\u001b[0m\u001b[0;34m.\u001b[0m\u001b[0mparameters\u001b[0m\u001b[0;34m,\u001b[0m \u001b[0margs\u001b[0m\u001b[0;34m)\u001b[0m\u001b[0;34m}\u001b[0m\u001b[0;34m)\u001b[0m\u001b[0;34m\u001b[0m\u001b[0;34m\u001b[0m\u001b[0m\n\u001b[0;32m---> 72\u001b[0;31m         \u001b[0;32mreturn\u001b[0m \u001b[0mf\u001b[0m\u001b[0;34m(\u001b[0m\u001b[0;34m**\u001b[0m\u001b[0mkwargs\u001b[0m\u001b[0;34m)\u001b[0m\u001b[0;34m\u001b[0m\u001b[0;34m\u001b[0m\u001b[0m\n\u001b[0m\u001b[1;32m     73\u001b[0m     \u001b[0;32mreturn\u001b[0m \u001b[0minner_f\u001b[0m\u001b[0;34m\u001b[0m\u001b[0;34m\u001b[0m\u001b[0m\n\u001b[1;32m     74\u001b[0m \u001b[0;34m\u001b[0m\u001b[0m\n",
      "\u001b[0;32m/Library/Python/3.8/site-packages/sklearn/inspection/_permutation_importance.py\u001b[0m in \u001b[0;36mpermutation_importance\u001b[0;34m(estimator, X, y, scoring, n_repeats, n_jobs, random_state)\u001b[0m\n\u001b[1;32m    133\u001b[0m     \u001b[0mbaseline_score\u001b[0m \u001b[0;34m=\u001b[0m \u001b[0mscorer\u001b[0m\u001b[0;34m(\u001b[0m\u001b[0mestimator\u001b[0m\u001b[0;34m,\u001b[0m \u001b[0mX\u001b[0m\u001b[0;34m,\u001b[0m \u001b[0my\u001b[0m\u001b[0;34m)\u001b[0m\u001b[0;34m\u001b[0m\u001b[0;34m\u001b[0m\u001b[0m\n\u001b[1;32m    134\u001b[0m \u001b[0;34m\u001b[0m\u001b[0m\n\u001b[0;32m--> 135\u001b[0;31m     scores = Parallel(n_jobs=n_jobs)(delayed(_calculate_permutation_scores)(\n\u001b[0m\u001b[1;32m    136\u001b[0m         \u001b[0mestimator\u001b[0m\u001b[0;34m,\u001b[0m \u001b[0mX\u001b[0m\u001b[0;34m,\u001b[0m \u001b[0my\u001b[0m\u001b[0;34m,\u001b[0m \u001b[0mcol_idx\u001b[0m\u001b[0;34m,\u001b[0m \u001b[0mrandom_seed\u001b[0m\u001b[0;34m,\u001b[0m \u001b[0mn_repeats\u001b[0m\u001b[0;34m,\u001b[0m \u001b[0mscorer\u001b[0m\u001b[0;34m\u001b[0m\u001b[0;34m\u001b[0m\u001b[0m\n\u001b[1;32m    137\u001b[0m     ) for col_idx in range(X.shape[1]))\n",
      "\u001b[0;32m/Library/Python/3.8/site-packages/joblib/parallel.py\u001b[0m in \u001b[0;36m__call__\u001b[0;34m(self, iterable)\u001b[0m\n\u001b[1;32m   1042\u001b[0m                 \u001b[0mself\u001b[0m\u001b[0;34m.\u001b[0m\u001b[0m_iterating\u001b[0m \u001b[0;34m=\u001b[0m \u001b[0mself\u001b[0m\u001b[0;34m.\u001b[0m\u001b[0m_original_iterator\u001b[0m \u001b[0;32mis\u001b[0m \u001b[0;32mnot\u001b[0m \u001b[0;32mNone\u001b[0m\u001b[0;34m\u001b[0m\u001b[0;34m\u001b[0m\u001b[0m\n\u001b[1;32m   1043\u001b[0m \u001b[0;34m\u001b[0m\u001b[0m\n\u001b[0;32m-> 1044\u001b[0;31m             \u001b[0;32mwhile\u001b[0m \u001b[0mself\u001b[0m\u001b[0;34m.\u001b[0m\u001b[0mdispatch_one_batch\u001b[0m\u001b[0;34m(\u001b[0m\u001b[0miterator\u001b[0m\u001b[0;34m)\u001b[0m\u001b[0;34m:\u001b[0m\u001b[0;34m\u001b[0m\u001b[0;34m\u001b[0m\u001b[0m\n\u001b[0m\u001b[1;32m   1045\u001b[0m                 \u001b[0;32mpass\u001b[0m\u001b[0;34m\u001b[0m\u001b[0;34m\u001b[0m\u001b[0m\n\u001b[1;32m   1046\u001b[0m \u001b[0;34m\u001b[0m\u001b[0m\n",
      "\u001b[0;32m/Library/Python/3.8/site-packages/joblib/parallel.py\u001b[0m in \u001b[0;36mdispatch_one_batch\u001b[0;34m(self, iterator)\u001b[0m\n\u001b[1;32m    857\u001b[0m                 \u001b[0;32mreturn\u001b[0m \u001b[0;32mFalse\u001b[0m\u001b[0;34m\u001b[0m\u001b[0;34m\u001b[0m\u001b[0m\n\u001b[1;32m    858\u001b[0m             \u001b[0;32melse\u001b[0m\u001b[0;34m:\u001b[0m\u001b[0;34m\u001b[0m\u001b[0;34m\u001b[0m\u001b[0m\n\u001b[0;32m--> 859\u001b[0;31m                 \u001b[0mself\u001b[0m\u001b[0;34m.\u001b[0m\u001b[0m_dispatch\u001b[0m\u001b[0;34m(\u001b[0m\u001b[0mtasks\u001b[0m\u001b[0;34m)\u001b[0m\u001b[0;34m\u001b[0m\u001b[0;34m\u001b[0m\u001b[0m\n\u001b[0m\u001b[1;32m    860\u001b[0m                 \u001b[0;32mreturn\u001b[0m \u001b[0;32mTrue\u001b[0m\u001b[0;34m\u001b[0m\u001b[0;34m\u001b[0m\u001b[0m\n\u001b[1;32m    861\u001b[0m \u001b[0;34m\u001b[0m\u001b[0m\n",
      "\u001b[0;32m/Library/Python/3.8/site-packages/joblib/parallel.py\u001b[0m in \u001b[0;36m_dispatch\u001b[0;34m(self, batch)\u001b[0m\n\u001b[1;32m    775\u001b[0m         \u001b[0;32mwith\u001b[0m \u001b[0mself\u001b[0m\u001b[0;34m.\u001b[0m\u001b[0m_lock\u001b[0m\u001b[0;34m:\u001b[0m\u001b[0;34m\u001b[0m\u001b[0;34m\u001b[0m\u001b[0m\n\u001b[1;32m    776\u001b[0m             \u001b[0mjob_idx\u001b[0m \u001b[0;34m=\u001b[0m \u001b[0mlen\u001b[0m\u001b[0;34m(\u001b[0m\u001b[0mself\u001b[0m\u001b[0;34m.\u001b[0m\u001b[0m_jobs\u001b[0m\u001b[0;34m)\u001b[0m\u001b[0;34m\u001b[0m\u001b[0;34m\u001b[0m\u001b[0m\n\u001b[0;32m--> 777\u001b[0;31m             \u001b[0mjob\u001b[0m \u001b[0;34m=\u001b[0m \u001b[0mself\u001b[0m\u001b[0;34m.\u001b[0m\u001b[0m_backend\u001b[0m\u001b[0;34m.\u001b[0m\u001b[0mapply_async\u001b[0m\u001b[0;34m(\u001b[0m\u001b[0mbatch\u001b[0m\u001b[0;34m,\u001b[0m \u001b[0mcallback\u001b[0m\u001b[0;34m=\u001b[0m\u001b[0mcb\u001b[0m\u001b[0;34m)\u001b[0m\u001b[0;34m\u001b[0m\u001b[0;34m\u001b[0m\u001b[0m\n\u001b[0m\u001b[1;32m    778\u001b[0m             \u001b[0;31m# A job can complete so quickly than its callback is\u001b[0m\u001b[0;34m\u001b[0m\u001b[0;34m\u001b[0m\u001b[0;34m\u001b[0m\u001b[0m\n\u001b[1;32m    779\u001b[0m             \u001b[0;31m# called before we get here, causing self._jobs to\u001b[0m\u001b[0;34m\u001b[0m\u001b[0;34m\u001b[0m\u001b[0;34m\u001b[0m\u001b[0m\n",
      "\u001b[0;32m/Library/Python/3.8/site-packages/joblib/_parallel_backends.py\u001b[0m in \u001b[0;36mapply_async\u001b[0;34m(self, func, callback)\u001b[0m\n\u001b[1;32m    206\u001b[0m     \u001b[0;32mdef\u001b[0m \u001b[0mapply_async\u001b[0m\u001b[0;34m(\u001b[0m\u001b[0mself\u001b[0m\u001b[0;34m,\u001b[0m \u001b[0mfunc\u001b[0m\u001b[0;34m,\u001b[0m \u001b[0mcallback\u001b[0m\u001b[0;34m=\u001b[0m\u001b[0;32mNone\u001b[0m\u001b[0;34m)\u001b[0m\u001b[0;34m:\u001b[0m\u001b[0;34m\u001b[0m\u001b[0;34m\u001b[0m\u001b[0m\n\u001b[1;32m    207\u001b[0m         \u001b[0;34m\"\"\"Schedule a func to be run\"\"\"\u001b[0m\u001b[0;34m\u001b[0m\u001b[0;34m\u001b[0m\u001b[0m\n\u001b[0;32m--> 208\u001b[0;31m         \u001b[0mresult\u001b[0m \u001b[0;34m=\u001b[0m \u001b[0mImmediateResult\u001b[0m\u001b[0;34m(\u001b[0m\u001b[0mfunc\u001b[0m\u001b[0;34m)\u001b[0m\u001b[0;34m\u001b[0m\u001b[0;34m\u001b[0m\u001b[0m\n\u001b[0m\u001b[1;32m    209\u001b[0m         \u001b[0;32mif\u001b[0m \u001b[0mcallback\u001b[0m\u001b[0;34m:\u001b[0m\u001b[0;34m\u001b[0m\u001b[0;34m\u001b[0m\u001b[0m\n\u001b[1;32m    210\u001b[0m             \u001b[0mcallback\u001b[0m\u001b[0;34m(\u001b[0m\u001b[0mresult\u001b[0m\u001b[0;34m)\u001b[0m\u001b[0;34m\u001b[0m\u001b[0;34m\u001b[0m\u001b[0m\n",
      "\u001b[0;32m/Library/Python/3.8/site-packages/joblib/_parallel_backends.py\u001b[0m in \u001b[0;36m__init__\u001b[0;34m(self, batch)\u001b[0m\n\u001b[1;32m    570\u001b[0m         \u001b[0;31m# Don't delay the application, to avoid keeping the input\u001b[0m\u001b[0;34m\u001b[0m\u001b[0;34m\u001b[0m\u001b[0;34m\u001b[0m\u001b[0m\n\u001b[1;32m    571\u001b[0m         \u001b[0;31m# arguments in memory\u001b[0m\u001b[0;34m\u001b[0m\u001b[0;34m\u001b[0m\u001b[0;34m\u001b[0m\u001b[0m\n\u001b[0;32m--> 572\u001b[0;31m         \u001b[0mself\u001b[0m\u001b[0;34m.\u001b[0m\u001b[0mresults\u001b[0m \u001b[0;34m=\u001b[0m \u001b[0mbatch\u001b[0m\u001b[0;34m(\u001b[0m\u001b[0;34m)\u001b[0m\u001b[0;34m\u001b[0m\u001b[0;34m\u001b[0m\u001b[0m\n\u001b[0m\u001b[1;32m    573\u001b[0m \u001b[0;34m\u001b[0m\u001b[0m\n\u001b[1;32m    574\u001b[0m     \u001b[0;32mdef\u001b[0m \u001b[0mget\u001b[0m\u001b[0;34m(\u001b[0m\u001b[0mself\u001b[0m\u001b[0;34m)\u001b[0m\u001b[0;34m:\u001b[0m\u001b[0;34m\u001b[0m\u001b[0;34m\u001b[0m\u001b[0m\n",
      "\u001b[0;32m/Library/Python/3.8/site-packages/joblib/parallel.py\u001b[0m in \u001b[0;36m__call__\u001b[0;34m(self)\u001b[0m\n\u001b[1;32m    260\u001b[0m         \u001b[0;31m# change the default number of processes to -1\u001b[0m\u001b[0;34m\u001b[0m\u001b[0;34m\u001b[0m\u001b[0;34m\u001b[0m\u001b[0m\n\u001b[1;32m    261\u001b[0m         \u001b[0;32mwith\u001b[0m \u001b[0mparallel_backend\u001b[0m\u001b[0;34m(\u001b[0m\u001b[0mself\u001b[0m\u001b[0;34m.\u001b[0m\u001b[0m_backend\u001b[0m\u001b[0;34m,\u001b[0m \u001b[0mn_jobs\u001b[0m\u001b[0;34m=\u001b[0m\u001b[0mself\u001b[0m\u001b[0;34m.\u001b[0m\u001b[0m_n_jobs\u001b[0m\u001b[0;34m)\u001b[0m\u001b[0;34m:\u001b[0m\u001b[0;34m\u001b[0m\u001b[0;34m\u001b[0m\u001b[0m\n\u001b[0;32m--> 262\u001b[0;31m             return [func(*args, **kwargs)\n\u001b[0m\u001b[1;32m    263\u001b[0m                     for func, args, kwargs in self.items]\n\u001b[1;32m    264\u001b[0m \u001b[0;34m\u001b[0m\u001b[0m\n",
      "\u001b[0;32m/Library/Python/3.8/site-packages/joblib/parallel.py\u001b[0m in \u001b[0;36m<listcomp>\u001b[0;34m(.0)\u001b[0m\n\u001b[1;32m    260\u001b[0m         \u001b[0;31m# change the default number of processes to -1\u001b[0m\u001b[0;34m\u001b[0m\u001b[0;34m\u001b[0m\u001b[0;34m\u001b[0m\u001b[0m\n\u001b[1;32m    261\u001b[0m         \u001b[0;32mwith\u001b[0m \u001b[0mparallel_backend\u001b[0m\u001b[0;34m(\u001b[0m\u001b[0mself\u001b[0m\u001b[0;34m.\u001b[0m\u001b[0m_backend\u001b[0m\u001b[0;34m,\u001b[0m \u001b[0mn_jobs\u001b[0m\u001b[0;34m=\u001b[0m\u001b[0mself\u001b[0m\u001b[0;34m.\u001b[0m\u001b[0m_n_jobs\u001b[0m\u001b[0;34m)\u001b[0m\u001b[0;34m:\u001b[0m\u001b[0;34m\u001b[0m\u001b[0;34m\u001b[0m\u001b[0m\n\u001b[0;32m--> 262\u001b[0;31m             return [func(*args, **kwargs)\n\u001b[0m\u001b[1;32m    263\u001b[0m                     for func, args, kwargs in self.items]\n\u001b[1;32m    264\u001b[0m \u001b[0;34m\u001b[0m\u001b[0m\n",
      "\u001b[0;32m/Library/Python/3.8/site-packages/sklearn/inspection/_permutation_importance.py\u001b[0m in \u001b[0;36m_calculate_permutation_scores\u001b[0;34m(estimator, X, y, col_idx, random_state, n_repeats, scorer)\u001b[0m\n\u001b[1;32m     33\u001b[0m         \u001b[0;32melse\u001b[0m\u001b[0;34m:\u001b[0m\u001b[0;34m\u001b[0m\u001b[0;34m\u001b[0m\u001b[0m\n\u001b[1;32m     34\u001b[0m             \u001b[0mX_permuted\u001b[0m\u001b[0;34m[\u001b[0m\u001b[0;34m:\u001b[0m\u001b[0;34m,\u001b[0m \u001b[0mcol_idx\u001b[0m\u001b[0;34m]\u001b[0m \u001b[0;34m=\u001b[0m \u001b[0mX_permuted\u001b[0m\u001b[0;34m[\u001b[0m\u001b[0mshuffling_idx\u001b[0m\u001b[0;34m,\u001b[0m \u001b[0mcol_idx\u001b[0m\u001b[0;34m]\u001b[0m\u001b[0;34m\u001b[0m\u001b[0;34m\u001b[0m\u001b[0m\n\u001b[0;32m---> 35\u001b[0;31m         \u001b[0mfeature_score\u001b[0m \u001b[0;34m=\u001b[0m \u001b[0mscorer\u001b[0m\u001b[0;34m(\u001b[0m\u001b[0mestimator\u001b[0m\u001b[0;34m,\u001b[0m \u001b[0mX_permuted\u001b[0m\u001b[0;34m,\u001b[0m \u001b[0my\u001b[0m\u001b[0;34m)\u001b[0m\u001b[0;34m\u001b[0m\u001b[0;34m\u001b[0m\u001b[0m\n\u001b[0m\u001b[1;32m     36\u001b[0m         \u001b[0mscores\u001b[0m\u001b[0;34m[\u001b[0m\u001b[0mn_round\u001b[0m\u001b[0;34m]\u001b[0m \u001b[0;34m=\u001b[0m \u001b[0mfeature_score\u001b[0m\u001b[0;34m\u001b[0m\u001b[0;34m\u001b[0m\u001b[0m\n\u001b[1;32m     37\u001b[0m \u001b[0;34m\u001b[0m\u001b[0m\n",
      "\u001b[0;32m/Library/Python/3.8/site-packages/sklearn/metrics/_scorer.py\u001b[0m in \u001b[0;36m_passthrough_scorer\u001b[0;34m(estimator, *args, **kwargs)\u001b[0m\n\u001b[1;32m    370\u001b[0m \u001b[0;32mdef\u001b[0m \u001b[0m_passthrough_scorer\u001b[0m\u001b[0;34m(\u001b[0m\u001b[0mestimator\u001b[0m\u001b[0;34m,\u001b[0m \u001b[0;34m*\u001b[0m\u001b[0margs\u001b[0m\u001b[0;34m,\u001b[0m \u001b[0;34m**\u001b[0m\u001b[0mkwargs\u001b[0m\u001b[0;34m)\u001b[0m\u001b[0;34m:\u001b[0m\u001b[0;34m\u001b[0m\u001b[0;34m\u001b[0m\u001b[0m\n\u001b[1;32m    371\u001b[0m     \u001b[0;34m\"\"\"Function that wraps estimator.score\"\"\"\u001b[0m\u001b[0;34m\u001b[0m\u001b[0;34m\u001b[0m\u001b[0m\n\u001b[0;32m--> 372\u001b[0;31m     \u001b[0;32mreturn\u001b[0m \u001b[0mestimator\u001b[0m\u001b[0;34m.\u001b[0m\u001b[0mscore\u001b[0m\u001b[0;34m(\u001b[0m\u001b[0;34m*\u001b[0m\u001b[0margs\u001b[0m\u001b[0;34m,\u001b[0m \u001b[0;34m**\u001b[0m\u001b[0mkwargs\u001b[0m\u001b[0;34m)\u001b[0m\u001b[0;34m\u001b[0m\u001b[0;34m\u001b[0m\u001b[0m\n\u001b[0m\u001b[1;32m    373\u001b[0m \u001b[0;34m\u001b[0m\u001b[0m\n\u001b[1;32m    374\u001b[0m \u001b[0;34m\u001b[0m\u001b[0m\n",
      "\u001b[0;32m/Library/Python/3.8/site-packages/sklearn/base.py\u001b[0m in \u001b[0;36mscore\u001b[0;34m(self, X, y, sample_weight)\u001b[0m\n\u001b[1;32m    497\u001b[0m         \"\"\"\n\u001b[1;32m    498\u001b[0m         \u001b[0;32mfrom\u001b[0m \u001b[0;34m.\u001b[0m\u001b[0mmetrics\u001b[0m \u001b[0;32mimport\u001b[0m \u001b[0maccuracy_score\u001b[0m\u001b[0;34m\u001b[0m\u001b[0;34m\u001b[0m\u001b[0m\n\u001b[0;32m--> 499\u001b[0;31m         \u001b[0;32mreturn\u001b[0m \u001b[0maccuracy_score\u001b[0m\u001b[0;34m(\u001b[0m\u001b[0my\u001b[0m\u001b[0;34m,\u001b[0m \u001b[0mself\u001b[0m\u001b[0;34m.\u001b[0m\u001b[0mpredict\u001b[0m\u001b[0;34m(\u001b[0m\u001b[0mX\u001b[0m\u001b[0;34m)\u001b[0m\u001b[0;34m,\u001b[0m \u001b[0msample_weight\u001b[0m\u001b[0;34m=\u001b[0m\u001b[0msample_weight\u001b[0m\u001b[0;34m)\u001b[0m\u001b[0;34m\u001b[0m\u001b[0;34m\u001b[0m\u001b[0m\n\u001b[0m\u001b[1;32m    500\u001b[0m \u001b[0;34m\u001b[0m\u001b[0m\n\u001b[1;32m    501\u001b[0m     \u001b[0;32mdef\u001b[0m \u001b[0m_more_tags\u001b[0m\u001b[0;34m(\u001b[0m\u001b[0mself\u001b[0m\u001b[0;34m)\u001b[0m\u001b[0;34m:\u001b[0m\u001b[0;34m\u001b[0m\u001b[0;34m\u001b[0m\u001b[0m\n",
      "\u001b[0;32m/Library/Python/3.8/site-packages/sklearn/svm/_base.py\u001b[0m in \u001b[0;36mpredict\u001b[0;34m(self, X)\u001b[0m\n\u001b[1;32m    613\u001b[0m             \u001b[0my\u001b[0m \u001b[0;34m=\u001b[0m \u001b[0mnp\u001b[0m\u001b[0;34m.\u001b[0m\u001b[0margmax\u001b[0m\u001b[0;34m(\u001b[0m\u001b[0mself\u001b[0m\u001b[0;34m.\u001b[0m\u001b[0mdecision_function\u001b[0m\u001b[0;34m(\u001b[0m\u001b[0mX\u001b[0m\u001b[0;34m)\u001b[0m\u001b[0;34m,\u001b[0m \u001b[0maxis\u001b[0m\u001b[0;34m=\u001b[0m\u001b[0;36m1\u001b[0m\u001b[0;34m)\u001b[0m\u001b[0;34m\u001b[0m\u001b[0;34m\u001b[0m\u001b[0m\n\u001b[1;32m    614\u001b[0m         \u001b[0;32melse\u001b[0m\u001b[0;34m:\u001b[0m\u001b[0;34m\u001b[0m\u001b[0;34m\u001b[0m\u001b[0m\n\u001b[0;32m--> 615\u001b[0;31m             \u001b[0my\u001b[0m \u001b[0;34m=\u001b[0m \u001b[0msuper\u001b[0m\u001b[0;34m(\u001b[0m\u001b[0;34m)\u001b[0m\u001b[0;34m.\u001b[0m\u001b[0mpredict\u001b[0m\u001b[0;34m(\u001b[0m\u001b[0mX\u001b[0m\u001b[0;34m)\u001b[0m\u001b[0;34m\u001b[0m\u001b[0;34m\u001b[0m\u001b[0m\n\u001b[0m\u001b[1;32m    616\u001b[0m         \u001b[0;32mreturn\u001b[0m \u001b[0mself\u001b[0m\u001b[0;34m.\u001b[0m\u001b[0mclasses_\u001b[0m\u001b[0;34m.\u001b[0m\u001b[0mtake\u001b[0m\u001b[0;34m(\u001b[0m\u001b[0mnp\u001b[0m\u001b[0;34m.\u001b[0m\u001b[0masarray\u001b[0m\u001b[0;34m(\u001b[0m\u001b[0my\u001b[0m\u001b[0;34m,\u001b[0m \u001b[0mdtype\u001b[0m\u001b[0;34m=\u001b[0m\u001b[0mnp\u001b[0m\u001b[0;34m.\u001b[0m\u001b[0mintp\u001b[0m\u001b[0;34m)\u001b[0m\u001b[0;34m)\u001b[0m\u001b[0;34m\u001b[0m\u001b[0;34m\u001b[0m\u001b[0m\n\u001b[1;32m    617\u001b[0m \u001b[0;34m\u001b[0m\u001b[0m\n",
      "\u001b[0;32m/Library/Python/3.8/site-packages/sklearn/svm/_base.py\u001b[0m in \u001b[0;36mpredict\u001b[0;34m(self, X)\u001b[0m\n\u001b[1;32m    333\u001b[0m         \u001b[0mX\u001b[0m \u001b[0;34m=\u001b[0m \u001b[0mself\u001b[0m\u001b[0;34m.\u001b[0m\u001b[0m_validate_for_predict\u001b[0m\u001b[0;34m(\u001b[0m\u001b[0mX\u001b[0m\u001b[0;34m)\u001b[0m\u001b[0;34m\u001b[0m\u001b[0;34m\u001b[0m\u001b[0m\n\u001b[1;32m    334\u001b[0m         \u001b[0mpredict\u001b[0m \u001b[0;34m=\u001b[0m \u001b[0mself\u001b[0m\u001b[0;34m.\u001b[0m\u001b[0m_sparse_predict\u001b[0m \u001b[0;32mif\u001b[0m \u001b[0mself\u001b[0m\u001b[0;34m.\u001b[0m\u001b[0m_sparse\u001b[0m \u001b[0;32melse\u001b[0m \u001b[0mself\u001b[0m\u001b[0;34m.\u001b[0m\u001b[0m_dense_predict\u001b[0m\u001b[0;34m\u001b[0m\u001b[0;34m\u001b[0m\u001b[0m\n\u001b[0;32m--> 335\u001b[0;31m         \u001b[0;32mreturn\u001b[0m \u001b[0mpredict\u001b[0m\u001b[0;34m(\u001b[0m\u001b[0mX\u001b[0m\u001b[0;34m)\u001b[0m\u001b[0;34m\u001b[0m\u001b[0;34m\u001b[0m\u001b[0m\n\u001b[0m\u001b[1;32m    336\u001b[0m \u001b[0;34m\u001b[0m\u001b[0m\n\u001b[1;32m    337\u001b[0m     \u001b[0;32mdef\u001b[0m \u001b[0m_dense_predict\u001b[0m\u001b[0;34m(\u001b[0m\u001b[0mself\u001b[0m\u001b[0;34m,\u001b[0m \u001b[0mX\u001b[0m\u001b[0;34m)\u001b[0m\u001b[0;34m:\u001b[0m\u001b[0;34m\u001b[0m\u001b[0;34m\u001b[0m\u001b[0m\n",
      "\u001b[0;32m/Library/Python/3.8/site-packages/sklearn/svm/_base.py\u001b[0m in \u001b[0;36m_dense_predict\u001b[0;34m(self, X)\u001b[0m\n\u001b[1;32m    350\u001b[0m         \u001b[0msvm_type\u001b[0m \u001b[0;34m=\u001b[0m \u001b[0mLIBSVM_IMPL\u001b[0m\u001b[0;34m.\u001b[0m\u001b[0mindex\u001b[0m\u001b[0;34m(\u001b[0m\u001b[0mself\u001b[0m\u001b[0;34m.\u001b[0m\u001b[0m_impl\u001b[0m\u001b[0;34m)\u001b[0m\u001b[0;34m\u001b[0m\u001b[0;34m\u001b[0m\u001b[0m\n\u001b[1;32m    351\u001b[0m \u001b[0;34m\u001b[0m\u001b[0m\n\u001b[0;32m--> 352\u001b[0;31m         return libsvm.predict(\n\u001b[0m\u001b[1;32m    353\u001b[0m             \u001b[0mX\u001b[0m\u001b[0;34m,\u001b[0m \u001b[0mself\u001b[0m\u001b[0;34m.\u001b[0m\u001b[0msupport_\u001b[0m\u001b[0;34m,\u001b[0m \u001b[0mself\u001b[0m\u001b[0;34m.\u001b[0m\u001b[0msupport_vectors_\u001b[0m\u001b[0;34m,\u001b[0m \u001b[0mself\u001b[0m\u001b[0;34m.\u001b[0m\u001b[0m_n_support\u001b[0m\u001b[0;34m,\u001b[0m\u001b[0;34m\u001b[0m\u001b[0;34m\u001b[0m\u001b[0m\n\u001b[1;32m    354\u001b[0m             \u001b[0mself\u001b[0m\u001b[0;34m.\u001b[0m\u001b[0m_dual_coef_\u001b[0m\u001b[0;34m,\u001b[0m \u001b[0mself\u001b[0m\u001b[0;34m.\u001b[0m\u001b[0m_intercept_\u001b[0m\u001b[0;34m,\u001b[0m\u001b[0;34m\u001b[0m\u001b[0;34m\u001b[0m\u001b[0m\n",
      "\u001b[0;31mKeyboardInterrupt\u001b[0m: "
     ]
    }
   ],
   "source": [
    "# svm\n",
    "svm_ = svm.SVC()#make_pipeline(StandardScaler(), svm.SVC())\n",
    "svm_.fit(train.drop(\"yInt\",axis=\"columns\"), train.yInt) \n",
    "\n",
    "print(svm_.score(train.drop(\"yInt\",axis=\"columns\"), train.yInt))\n",
    "print(svm_.score(test.drop(\"yInt\",axis=\"columns\"), test.yInt))\n",
    "pickle.dump(svm_, open(\"svm.sav\", 'wb'))\n",
    "\n",
    "r = permutation_importance(svm_, test.drop(\"yInt\",axis=\"columns\"), test.yInt, n_repeats=100, random_state=0)\n",
    "for i in r.importances_mean.argsort()[::-1]:\n",
    "    print( f\"{test.columns[i]:<8}\" f\" {r.importances_mean[i]:.3f}\" f\" +/- {r.importances_std[i]:.3f}\" f\" {r.importances_mean[i] - 2 * r.importances_std[i] > 0}\")\n",
    "# 0.9560117302052786\n",
    "# 0.9523809523809523\n",
    "\n",
    "# 0.9262152777777778\n",
    "# 0.9097222222222222\n",
    "\n",
    "# 0.9236111111111112\n",
    "# 0.9131944444444444\n"
   ]
  },
  {
   "cell_type": "code",
   "execution_count": null,
   "metadata": {},
   "outputs": [],
   "source": []
  },
  {
   "cell_type": "code",
   "execution_count": null,
   "metadata": {},
   "outputs": [],
   "source": []
  },
  {
   "cell_type": "code",
   "execution_count": null,
   "metadata": {
    "ExecuteTime": {
     "end_time": "2021-01-11T00:34:31.413002Z",
     "start_time": "2021-01-11T00:34:04.125Z"
    },
    "scrolled": true
   },
   "outputs": [],
   "source": [
    "parameter_space = {\n",
    "    'hidden_layer_sizes': [(50, 20),(500, 20), (50,200),(50,50,50), (50,100,50), (100,)],\n",
    "    'activation': ['tanh', 'relu'],\n",
    "    'solver': ['sgd', 'adam','lbfgs'],\n",
    "    'alpha': [0.0001, 0.05, 1e-5, 0.1],\n",
    "    'learning_rate': ['constant','adaptive'],\n",
    "}\n",
    "mlpcv = GridSearchCV(mlp, parameter_space, n_jobs=-1, cv=3)\n",
    "mlpcv.fit(train.drop(\"yint\",axis=\"columns\"), train.yint)\n",
    "# Best paramete set\n",
    "print('Best parameters found:\\n', mlpcv.best_params_)\n",
    "# All results\n",
    "means = mlpcv.cv_results_['mean_test_score']\n",
    "stds = mlpcv.cv_results_['std_test_score']\n",
    "for mean, std, params in zip(means, stds, mlpcv.cv_results_['params']):\n",
    "    print(\"%0.3f (+/-%0.03f) for %r\" % (mean, std * 2, params))"
   ]
  },
  {
   "cell_type": "code",
   "execution_count": null,
   "metadata": {},
   "outputs": [],
   "source": []
  },
  {
   "cell_type": "code",
   "execution_count": null,
   "metadata": {},
   "outputs": [],
   "source": []
  },
  {
   "cell_type": "code",
   "execution_count": null,
   "metadata": {},
   "outputs": [],
   "source": []
  },
  {
   "cell_type": "code",
   "execution_count": null,
   "metadata": {},
   "outputs": [],
   "source": []
  },
  {
   "cell_type": "code",
   "execution_count": null,
   "metadata": {
    "ExecuteTime": {
     "end_time": "2021-01-11T00:34:31.414704Z",
     "start_time": "2021-01-11T00:34:04.536Z"
    },
    "cell_style": "center"
   },
   "outputs": [],
   "source": [
    "df_=pd.read_csv(\"ml_output.csv\")[[\"Reduced_Cost\",\"y_lp\"]]\n",
    "print(clf.score(df_, df_.y_lp))"
   ]
  },
  {
   "cell_type": "code",
   "execution_count": null,
   "metadata": {
    "ExecuteTime": {
     "end_time": "2021-01-11T00:34:31.416104Z",
     "start_time": "2021-01-11T00:34:04.637Z"
    },
    "cell_style": "center"
   },
   "outputs": [],
   "source": [
    "plt.figure(figsize=(250,10))\n",
    "plt.scatter(range(len(test[\"y\"])),test[\"y\"])\n",
    "plt.scatter(range(len(test[\"y\"])),test[\"y_int\"])"
   ]
  },
  {
   "cell_type": "code",
   "execution_count": null,
   "metadata": {},
   "outputs": [],
   "source": []
  },
  {
   "cell_type": "code",
   "execution_count": null,
   "metadata": {
    "ExecuteTime": {
     "end_time": "2021-01-11T00:34:31.417781Z",
     "start_time": "2021-01-11T00:34:04.790Z"
    }
   },
   "outputs": [],
   "source": [
    "param_grid = {'C': [0.1, 1, 10, 100, 1000],  \n",
    "              'gamma': [1, 0.1, 0.01, 0.001, 0.0001], \n",
    "              'kernel': ['rbf']}  \n",
    "  \n",
    "grid = GridSearchCV(svm.SVC(), param_grid, refit = True, verbose = 3) \n",
    "  \n",
    "# fitting the model for grid search \n",
    "grid.fit(train.drop(\"y_int\",axis=\"columns\"), train.y_int) "
   ]
  },
  {
   "cell_type": "code",
   "execution_count": null,
   "metadata": {
    "ExecuteTime": {
     "end_time": "2021-01-11T00:34:31.418844Z",
     "start_time": "2021-01-11T00:34:04.872Z"
    },
    "scrolled": true
   },
   "outputs": [],
   "source": [
    "# test[\"score\"]=pipe.decision_function(test.drop([\"y_int\"],axis=\"columns\"))\n",
    "# test[\"pred\"]=pipe.predict(test.drop([\"score\",\"y_int\"],axis=\"columns\"))\n",
    "# print(100*len(test[test.y!=test.y_int])/len(test))\n",
    "# print(test[test.y!=test.y_int][[\"y_int\",\"y\"]].sort_values(\"y\").head(1000))\n",
    "print(test[[\"y_lp\",\"y_int\",\"score\",\"pred\"]].describe())\n",
    "test[[\"y_lp\",\"y_int\",\"score\",\"pred\"]].sort_values(\"score\")[test.pred!=test.y_int]"
   ]
  },
  {
   "cell_type": "code",
   "execution_count": null,
   "metadata": {
    "ExecuteTime": {
     "end_time": "2021-01-11T00:34:31.420053Z",
     "start_time": "2021-01-11T00:34:04.960Z"
    },
    "scrolled": false
   },
   "outputs": [],
   "source": [
    "# boost\n",
    "trainScores=[]\n",
    "testScores=[]\n",
    "for d in range(1000):#range(7,30):\n",
    "    d=np.random.randint(low=1,high=50)\n",
    "    t=np.random.randint(1,10000)\n",
    "    print(d,t)\n",
    "    clf = GradientBoostingClassifier(random_state=42,\n",
    "#                                 learning_rate=0.01,\n",
    "                                 n_estimators=t\n",
    "                                 ,max_depth=d\n",
    "                                ).fit(train.drop(\"yInt\",axis=\"columns\"), train.yInt)\n",
    "    trainScore=clf.score(train.drop(\"yInt\",axis=\"columns\"), train.yInt)\n",
    "    testScore=clf.score(val.drop(\"yInt\",axis=\"columns\"), val.yInt)\n",
    "    print(trainScore,testScore)\n",
    "    trainScores.append(trainScore)\n",
    "    testScores.append(testScore)\n",
    "#     if trainScore>0.999:\n",
    "#         for t in range(100,100000,250):\n",
    "#             clf = GradientBoostingClassifier(random_state=42,\n",
    "#         #                                 learning_rate=0.01,\n",
    "#                                          n_estimators=t,\n",
    "#                                          max_depth=d\n",
    "#                                         ).fit(train.drop(\"yInt\",axis=\"columns\"), train.yInt)\n",
    "#             trainScore=clf.score(train.drop(\"yInt\",axis=\"columns\"), train.yInt)\n",
    "#             testScore=clf.score(val.drop(\"yInt\",axis=\"columns\"), val.yInt)\n",
    "#             print(d,t,trainScore,testScore)\n",
    "#             trainScores.append(trainScore)\n",
    "#             testScores.append(testScore)\n",
    "#             if testScore>0.99:\n",
    "#                 break\n",
    "#         break\n",
    "\n",
    "# pickle.dump(clf, open(\"gboost.sav\", 'wb'))\n",
    "\n",
    "# r = permutation_importance(clf, test.drop(\"yint\",axis=\"columns\"), test.yint, n_repeats=100, random_state=0)\n",
    "# for i in r.importances_mean.argsort()[::-1]:\n",
    "#     print( f\"{test.columns[i]:<8}\" f\" {r.importances_mean[i]:.3f}\" f\" +/- {r.importances_std[i]:.3f}\" f\" {r.importances_mean[i] - 2 * r.importances_std[i] > 0}\")\n",
    "\n",
    "\n",
    "# 0.9208416833667334\n",
    "# 0.9151636606546426\n",
    "# ylp      0.392 +/- 0.008 True\n",
    "# y_lp_sum 0.086 +/- 0.005 True\n",
    "# ObjCoeff 0.011 +/- 0.002 True\n",
    "# RC       0.004 +/- 0.002 False\n",
    "# Dual     0.002 +/- 0.002 False"
   ]
  },
  {
   "cell_type": "code",
   "execution_count": null,
   "metadata": {
    "ExecuteTime": {
     "end_time": "2021-01-11T00:34:31.421572Z",
     "start_time": "2021-01-11T00:34:05.046Z"
    }
   },
   "outputs": [],
   "source": [
    "parameters = {\n",
    "#     \"loss\":[\"deviance\"],\n",
    "    \"learning_rate\": [0.001,0.01, 0.025, 0.05, 0.075, 0.1],\n",
    "#     \"min_samples_split\": np.linspace(0.1, 0.5, 12),\n",
    "#     \"min_samples_leaf\": np.linspace(0.1, 0.5, 12),\n",
    "    \"max_depth\":[3,7,18, 30],\n",
    "#     \"max_features\":[\"log2\",\"sqrt\"],\n",
    "#     \"criterion\": [\"friedman_mse\",  \"mae\"],\n",
    "#     \"subsample\":[0.5, 0.618, 0.8, 0.85, 0.9, 0.95, 1.0],\n",
    "    \"n_estimators\":[10, 200, 500, 1000, 3000, 5000, 10000]\n",
    "    }\n",
    "clf = GridSearchCV(GradientBoostingClassifier(), parameters, cv=3, n_jobs=-1,verbose=100)\n",
    "\n",
    "clf.fit(df.drop(\"yInt\",axis=\"columns\"), df.yInt)\n",
    "print(clf.score(df.drop(\"yInt\",axis=\"columns\"), df.yInt))\n",
    "print(clf.best_params_)\n"
   ]
  },
  {
   "cell_type": "code",
   "execution_count": null,
   "metadata": {},
   "outputs": [],
   "source": []
  },
  {
   "cell_type": "code",
   "execution_count": null,
   "metadata": {},
   "outputs": [],
   "source": []
  },
  {
   "cell_type": "code",
   "execution_count": null,
   "metadata": {},
   "outputs": [],
   "source": []
  },
  {
   "cell_type": "code",
   "execution_count": null,
   "metadata": {},
   "outputs": [],
   "source": []
  },
  {
   "cell_type": "code",
   "execution_count": null,
   "metadata": {},
   "outputs": [],
   "source": []
  },
  {
   "cell_type": "code",
   "execution_count": null,
   "metadata": {},
   "outputs": [],
   "source": []
  },
  {
   "cell_type": "code",
   "execution_count": null,
   "metadata": {},
   "outputs": [],
   "source": []
  },
  {
   "cell_type": "code",
   "execution_count": null,
   "metadata": {},
   "outputs": [],
   "source": []
  },
  {
   "cell_type": "code",
   "execution_count": null,
   "metadata": {},
   "outputs": [],
   "source": []
  },
  {
   "cell_type": "code",
   "execution_count": null,
   "metadata": {},
   "outputs": [],
   "source": []
  },
  {
   "cell_type": "code",
   "execution_count": null,
   "metadata": {},
   "outputs": [],
   "source": []
  },
  {
   "cell_type": "code",
   "execution_count": null,
   "metadata": {},
   "outputs": [],
   "source": []
  },
  {
   "cell_type": "code",
   "execution_count": null,
   "metadata": {},
   "outputs": [],
   "source": []
  },
  {
   "cell_type": "code",
   "execution_count": null,
   "metadata": {},
   "outputs": [],
   "source": []
  },
  {
   "cell_type": "code",
   "execution_count": null,
   "metadata": {},
   "outputs": [],
   "source": []
  },
  {
   "cell_type": "code",
   "execution_count": null,
   "metadata": {},
   "outputs": [],
   "source": []
  },
  {
   "cell_type": "code",
   "execution_count": null,
   "metadata": {},
   "outputs": [],
   "source": []
  },
  {
   "cell_type": "code",
   "execution_count": null,
   "metadata": {},
   "outputs": [],
   "source": []
  },
  {
   "cell_type": "code",
   "execution_count": null,
   "metadata": {},
   "outputs": [],
   "source": []
  },
  {
   "cell_type": "code",
   "execution_count": null,
   "metadata": {},
   "outputs": [],
   "source": []
  },
  {
   "cell_type": "code",
   "execution_count": null,
   "metadata": {},
   "outputs": [],
   "source": []
  },
  {
   "cell_type": "code",
   "execution_count": null,
   "metadata": {},
   "outputs": [],
   "source": []
  },
  {
   "cell_type": "code",
   "execution_count": null,
   "metadata": {},
   "outputs": [],
   "source": []
  },
  {
   "cell_type": "code",
   "execution_count": null,
   "metadata": {},
   "outputs": [],
   "source": []
  },
  {
   "cell_type": "code",
   "execution_count": null,
   "metadata": {},
   "outputs": [],
   "source": []
  },
  {
   "cell_type": "code",
   "execution_count": null,
   "metadata": {},
   "outputs": [],
   "source": []
  },
  {
   "cell_type": "code",
   "execution_count": null,
   "metadata": {},
   "outputs": [],
   "source": []
  },
  {
   "cell_type": "code",
   "execution_count": null,
   "metadata": {},
   "outputs": [],
   "source": []
  },
  {
   "cell_type": "code",
   "execution_count": null,
   "metadata": {},
   "outputs": [],
   "source": []
  },
  {
   "cell_type": "code",
   "execution_count": null,
   "metadata": {},
   "outputs": [],
   "source": []
  },
  {
   "cell_type": "code",
   "execution_count": null,
   "metadata": {},
   "outputs": [],
   "source": []
  },
  {
   "cell_type": "code",
   "execution_count": null,
   "metadata": {},
   "outputs": [],
   "source": []
  },
  {
   "cell_type": "code",
   "execution_count": null,
   "metadata": {},
   "outputs": [],
   "source": []
  },
  {
   "cell_type": "code",
   "execution_count": null,
   "metadata": {},
   "outputs": [],
   "source": []
  },
  {
   "cell_type": "code",
   "execution_count": null,
   "metadata": {},
   "outputs": [],
   "source": []
  },
  {
   "cell_type": "code",
   "execution_count": null,
   "metadata": {},
   "outputs": [],
   "source": []
  },
  {
   "cell_type": "code",
   "execution_count": null,
   "metadata": {},
   "outputs": [],
   "source": []
  }
 ],
 "metadata": {
  "kernelspec": {
   "display_name": "Python 3",
   "language": "python",
   "name": "python3"
  },
  "language_info": {
   "codemirror_mode": {
    "name": "ipython",
    "version": 3
   },
   "file_extension": ".py",
   "mimetype": "text/x-python",
   "name": "python",
   "nbconvert_exporter": "python",
   "pygments_lexer": "ipython3",
   "version": "3.8.2"
  }
 },
 "nbformat": 4,
 "nbformat_minor": 4
}
